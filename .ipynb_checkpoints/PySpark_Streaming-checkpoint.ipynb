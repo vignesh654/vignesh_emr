{
 "cells": [
  {
   "cell_type": "code",
   "execution_count": null,
   "metadata": {},
   "outputs": [],
   "source": [
    "import pyspark\n",
    "import time\n",
    "from pyspark.streaming import StreamingContext\n",
    "from socket import *\n",
    "from threading import Thread\n",
    "\n",
    "# Create a SparkContext with 2 threads in local mode\n",
    "sc = pyspark.SparkContext.getOrCreate(\"local[2]\")"
   ]
  },
  {
   "cell_type": "code",
   "execution_count": null,
   "metadata": {},
   "outputs": [],
   "source": [
    "# Create a thread that reads streaming data from the socket and \n",
    "# performs a wordcount on the data that arrived in the last 1 second\n",
    "class streamer(Thread):\n",
    "    def __init__(self, sc):\n",
    "        Thread.__init__(self)\n",
    "        self.sc = sc\n",
    "\n",
    "    def run(self):\n",
    "        print(\"starting streamer thread\")\n",
    "        batchInterval = 1\n",
    "        # Using the spark context, create a streaming context with a batch interval of 1 second\n",
    "        ssc = StreamingContext(self.sc, batchInterval )\n",
    "        # Create a socket DStream reading from localhost at port 4444\n",
    "        socketDstream = ssc.socketTextStream(\"localhost\",4444)\n",
    "            \n",
    "        # WordCount\n",
    "        wordcounts = socketDstream.flatMap(lambda line: line.split(\" \")) \\\n",
    "                        .map(lambda word: (word, 1)) \\\n",
    "                        .reduceByKey(lambda a, b: a+b)  \n",
    "         \n",
    "        # Print first 50 words counted in the last one second\n",
    "        wordcounts.pprint(50)\n",
    "        \n",
    "        # Start the execution\n",
    "        ssc.start()\n",
    "        \n",
    "        # Stop the streaming context after 35 seconds\n",
    "        time.sleep(35)       \n",
    "        ssc.stop()"
   ]
  },
  {
   "cell_type": "code",
   "execution_count": null,
   "metadata": {},
   "outputs": [],
   "source": [
    "# Create a thread that writes data to a socket to simulate streaming data at regular intervals\n",
    "class worker(Thread):\n",
    "    def run(self):\n",
    "        print('starting Socket writing thread')\n",
    "        HOST = 'localhost'\n",
    "        PORT = 4444\n",
    "        ADDR = (HOST, PORT)\n",
    "        # Create an INET, Streaming socket\n",
    "        serversocket = socket(AF_INET, SOCK_STREAM)\n",
    "        # Bind the socket to localhost and port 4444\n",
    "        serversocket.bind(ADDR) \n",
    "        # Become a server socket\n",
    "        serversocket.listen(SOMAXCONN)   \n",
    "        # Accept connections\n",
    "        clientsocket, addr = serversocket.accept()\n",
    "        print (\"connection ready.Sending data\")\n",
    "        \n",
    "        # Text copied from Wikipedia: https://en.wikipedia.org/wiki/Russula_virescens \n",
    "        # Start sending one line of text every two seconds\n",
    "        clientsocket.send(\"Russula virescens is a basidiomycete mushroom of the genus Russula and is commonly known as the green-cracking russula.\\n\\r\")\n",
    "        time.sleep(2)\n",
    "        clientsocket.send(\"It can be recognized by its distinctive pale green cap, the surface of which is covered with darker green angular patches.\\n\\r\")\n",
    "        time.sleep(2)       \n",
    "        clientsocket.send(\"It has crowded white gills, and a firm, white stipe that is up to 8 cm tall and 4 cm thick.\\n\\r\")\n",
    "        time.sleep(2)\n",
    "        clientsocket.send(\"Considered to be one of the best edible mushrooms of the genus Russula, it is especially popular in Spain and China.\\n\\r\")\n",
    "        time.sleep(2)\n",
    "        clientsocket.send(\"With a taste that is described variously as mild, nutty, fruity, or sweet, it is cooked by grilling, frying, sauteeing, or eaten raw.\\n\\r\")\n",
    "        time.sleep(2)\n",
    "        clientsocket.send(\"Mushrooms are rich in carbohydrates and proteins, with a low fat content.\\n\\r\")\n",
    "        time.sleep(2)\n",
    "        clientsocket.send(\"Its distribution encompasses Asia, North Africa, Europe, and Central America.\\n\\r\")\n",
    "        time.sleep(2)\n",
    "        clientsocket.send(\"In Asia, it associates with several species of tropical lowland rainforest trees of the family Dipterocarpaceae.\\n\\r\")\n",
    "        time.sleep(2)\n",
    "        clientsocket.send(\"R. virescens has a ribonuclease enzyme with a biochemistry unique among edible mushrooms.\\n\\r\")\n",
    "        time.sleep(2)\n",
    "        clientsocket.send(\"It also has biologically active polysaccharides, and a laccase enzyme that can break down several dyes used in the laboratory and in the textile industry.\\n\\r\")\n",
    "        time.sleep(2)\n",
    "        clientsocket.send(\"It may turn slightly brown with age, or when it is injured or bruised after handling.\\n\\r\")\n",
    "        time.sleep(2)\n",
    "        clientsocket.send(\"The cap cuticle is thin and can be easily peeled off the surface to a distance of about halfway towards the cap center.\\n\\r\")\n",
    "        \n",
    "        print(\"Socket writing thread exiting\")"
   ]
  },
  {
   "cell_type": "code",
   "execution_count": null,
   "metadata": {},
   "outputs": [],
   "source": [
    "# Start the streamer thread to begin reading data from the socket and processing it# Start \n",
    "streamer(sc).start()\n",
    "\n",
    "# Start the worker thread to begin writing data to the socket\n",
    "worker().start()"
   ]
  },
  {
   "cell_type": "code",
   "execution_count": null,
   "metadata": {},
   "outputs": [],
   "source": [
    "Print{\"hello world\"}"
   ]
  },
  {
   "cell_type": "code",
   "execution_count": null,
   "metadata": {},
   "outputs": [],
   "source": [
    "1+1"
   ]
  },
  {
   "cell_type": "code",
   "execution_count": null,
   "metadata": {},
   "outputs": [],
   "source": []
  },
  {
   "cell_type": "code",
   "execution_count": null,
   "metadata": {},
   "outputs": [],
   "source": [
    "1+1"
   ]
  },
  {
   "cell_type": "code",
   "execution_count": null,
   "metadata": {},
   "outputs": [],
   "source": []
  }
 ],
 "metadata": {
  "kernelspec": {
   "display_name": "conda_python2",
   "language": "python",
   "name": "conda_python2"
  },
  "language_info": {
   "codemirror_mode": {
    "name": "python",
    "version": 2
   },
   "mimetype": "text/x-python",
   "name": "pyspark",
   "pygments_lexer": "python2"
  }
 },
 "nbformat": 4,
 "nbformat_minor": 2
}
